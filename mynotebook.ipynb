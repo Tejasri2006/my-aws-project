{
 "cells": [
  {
   "cell_type": "code",
   "execution_count": 24,
   "id": "5b0bb8da-ce03-4ced-93df-b4aa049d914d",
   "metadata": {},
   "outputs": [],
   "source": [
    "import pandas as pd\n",
    "import numpy as np\n",
    "import boto3\n",
    "from sklearn.model_selection import train_test_split\n",
    "import sagemaker \n",
    "from sagemaker import Session\n",
    "import sagemaker.amazon.common as smac\n",
    "import os\n",
    "from sagemaker.amazon.amazon_estimator import get_image_uri\n",
    "import io"
   ]
  },
  {
   "cell_type": "code",
   "execution_count": 3,
   "id": "ad7ce050-cc4e-4b0b-865e-0a8836bc9edb",
   "metadata": {},
   "outputs": [],
   "source": [
    "df = pd.read_csv('student_scores.csv')"
   ]
  },
  {
   "cell_type": "code",
   "execution_count": 6,
   "id": "bb22a6d9-8f81-4344-801e-357c361a63de",
   "metadata": {},
   "outputs": [
    {
     "data": {
      "text/plain": [
       "(25, 2)"
      ]
     },
     "execution_count": 6,
     "metadata": {},
     "output_type": "execute_result"
    }
   ],
   "source": [
    "df.shape"
   ]
  },
  {
   "cell_type": "code",
   "execution_count": 8,
   "id": "fc6ecbea-0a83-447a-8028-dc0e40d49a0b",
   "metadata": {},
   "outputs": [],
   "source": [
    "x = df[['Hours']]\n",
    "y = df[['Scores']]\n"
   ]
  },
  {
   "cell_type": "code",
   "execution_count": 13,
   "id": "0f62687a-4cbe-40db-a62f-bdc420eed515",
   "metadata": {},
   "outputs": [],
   "source": [
    "x = x.astype(\"float32\")\n",
    "y = y.astype(\"float32\")"
   ]
  },
  {
   "cell_type": "code",
   "execution_count": 14,
   "id": "727858de-6232-4799-8d8a-cfb9ec063a1c",
   "metadata": {},
   "outputs": [
    {
     "data": {
      "text/plain": [
       "Hours    float32\n",
       "dtype: object"
      ]
     },
     "execution_count": 14,
     "metadata": {},
     "output_type": "execute_result"
    }
   ],
   "source": [
    "x.dtypes"
   ]
  },
  {
   "cell_type": "code",
   "execution_count": 15,
   "id": "2fb6b9d5-b915-41e5-a852-e247024da1c0",
   "metadata": {},
   "outputs": [
    {
     "data": {
      "text/plain": [
       "Scores    float32\n",
       "dtype: object"
      ]
     },
     "execution_count": 15,
     "metadata": {},
     "output_type": "execute_result"
    }
   ],
   "source": [
    "y.dtypes"
   ]
  },
  {
   "cell_type": "code",
   "execution_count": 16,
   "id": "4b2e17d5-5caa-46f5-a9ed-b00d270184b9",
   "metadata": {},
   "outputs": [],
   "source": [
    "X_train,X_test,y_train,y_test = train_test_split(x,y,test_size = 0.2)"
   ]
  },
  {
   "cell_type": "code",
   "execution_count": 17,
   "id": "db93c744-e560-4be2-98e1-1d25dbf5b574",
   "metadata": {},
   "outputs": [],
   "source": [
    "X_train = X_train.reset_index(drop = True)\n",
    "y_train = y_train.reset_index(drop = True)\n",
    "X_test = X_test.reset_index(drop = True)\n",
    "y_test = y_test.reset_index(drop = True)"
   ]
  },
  {
   "cell_type": "code",
   "execution_count": 19,
   "id": "2e3f4640-5f5a-47e5-8677-69b3edca0f0a",
   "metadata": {},
   "outputs": [],
   "source": [
    "y_train = y_train.iloc[:,0]"
   ]
  },
  {
   "cell_type": "code",
   "execution_count": 32,
   "id": "defa0139-9208-4fbc-9f5c-44159ffda6e7",
   "metadata": {},
   "outputs": [],
   "source": [
    "y_train = np.array(y_train)"
   ]
  },
  {
   "cell_type": "code",
   "execution_count": 21,
   "id": "4161f426-6b3c-4ba9-8926-649a7eaa6ff8",
   "metadata": {},
   "outputs": [],
   "source": [
    "sagemaker_session = sagemaker.Session()\n",
    "bucket_name = \"c160506a4117400l11163953t1w772864730-sandboxbucket-i4cmtu9q8tvt\"\n",
    "prefix = \"linear-learner\"\n",
    "role = sagemaker.get_execution_role()"
   ]
  },
  {
   "cell_type": "code",
   "execution_count": 22,
   "id": "0ae0d4af-5e88-49cd-84e6-c2df320ddbed",
   "metadata": {},
   "outputs": [],
   "source": [
    "X_train = np.array(X_train)"
   ]
  },
  {
   "cell_type": "code",
   "execution_count": 25,
   "id": "e211a593-95fd-4c39-b6b0-607a038f4f45",
   "metadata": {},
   "outputs": [
    {
     "data": {
      "text/plain": [
       "0"
      ]
     },
     "execution_count": 25,
     "metadata": {},
     "output_type": "execute_result"
    }
   ],
   "source": [
    "buf = io.BytesIO()\n",
    "smac.write_numpy_to_dense_tensor(buf,X_train,y_train)\n",
    "buf.seek(0)"
   ]
  },
  {
   "cell_type": "code",
   "execution_count": 26,
   "id": "e4a8ce23-d82b-49ef-9426-2b74b8ba3629",
   "metadata": {},
   "outputs": [
    {
     "name": "stdout",
     "output_type": "stream",
     "text": [
      "Data uploaded s3://c160506a4117400l11163953t1w772864730-sandboxbucket-i4cmtu9q8tvt/linear-learner/train/student-data\n"
     ]
    }
   ],
   "source": [
    "key = \"student-data\"\n",
    "\n",
    "boto3.resource('s3').Bucket(bucket_name).Object(os.path.join(prefix,'train',key)).upload_fileobj(buf)\n",
    "\n",
    "s3_train_data = f\"s3://{bucket_name}/{prefix}/train/{key}\"\n",
    "\n",
    "print(\"Data uploaded\",s3_train_data)"
   ]
  },
  {
   "cell_type": "code",
   "execution_count": 35,
   "id": "48a77e5b-089a-426f-aa53-9c0c8b6f90a3",
   "metadata": {},
   "outputs": [],
   "source": [
    "y_test = y_test.squeeze()"
   ]
  },
  {
   "cell_type": "code",
   "execution_count": 36,
   "id": "ef5abf14-6a5c-437b-8181-8d0ca2aea021",
   "metadata": {},
   "outputs": [
    {
     "name": "stdout",
     "output_type": "stream",
     "text": [
      "Data uploaded s3://c160506a4117400l11163953t1w772864730-sandboxbucket-i4cmtu9q8tvt/linear-learner/test/student-data-test\n"
     ]
    }
   ],
   "source": [
    "X_test = np.array(X_test)\n",
    "\n",
    "buf = io.BytesIO()\n",
    "\n",
    "smac.write_numpy_to_dense_tensor(buf,X_test,y_test)\n",
    "\n",
    "buf.seek(0)\n",
    "\n",
    "key = \"student-data-test\"\n",
    "\n",
    "boto3.resource('s3').Bucket(bucket_name).Object(os.path.join(prefix,'test',key)).upload_fileobj(buf)\n",
    "\n",
    "s3_train_data = f\"s3://{bucket_name}/{prefix}/test/{key}\"\n",
    "\n",
    "print(\"Data uploaded\",s3_train_data)"
   ]
  },
  {
   "cell_type": "code",
   "execution_count": 41,
   "id": "57ed6525-09f8-49b9-aca0-da6d2de9353b",
   "metadata": {},
   "outputs": [
    {
     "name": "stdout",
     "output_type": "stream",
     "text": [
      "382416733822.dkr.ecr.us-east-1.amazonaws.com/linear-learner:1\n"
     ]
    }
   ],
   "source": [
    "region = boto3.Session().region_name\n",
    "container = sagemaker.image_uris.retrieve(\"linear-learner\",region)\n",
    "print(container)"
   ]
  },
  {
   "cell_type": "code",
   "execution_count": 43,
   "id": "3e7939c8-9c12-4293-8e9e-d6a41f8f5de2",
   "metadata": {},
   "outputs": [],
   "source": [
    "output_location = f\"s3://{bucket_name}/{prefix}/\""
   ]
  },
  {
   "cell_type": "code",
   "execution_count": 44,
   "id": "da3108c3-1d88-433f-ae12-6b9144d68089",
   "metadata": {},
   "outputs": [],
   "source": [
    "linear = sagemaker.estimator.Estimator(container,role,instance_count=1,instance_type=\"ml.c4.xlarge\",output_path=output_location,sagemaker_session=sagemaker.Session())"
   ]
  },
  {
   "cell_type": "code",
   "execution_count": 49,
   "id": "a5811b75-a24a-495b-9288-a8dd9aaeb6d0",
   "metadata": {},
   "outputs": [],
   "source": [
    "linear.set_hyperparameters(feature_dim=1,predictor_type=\"regressor\",mini_batch_size=4,epochs=6,num_models=32,loss=\"absolute_loss\")"
   ]
  },
  {
   "cell_type": "code",
   "execution_count": 50,
   "id": "2be8eaa1-ea96-4ab0-a11c-cd575e4191dd",
   "metadata": {},
   "outputs": [
    {
     "name": "stderr",
     "output_type": "stream",
     "text": [
      "INFO:sagemaker.telemetry.telemetry_logging:SageMaker Python SDK will collect telemetry to help us better understand our user's needs, diagnose issues, and deliver additional features.\n",
      "To opt out of telemetry, please disable via TelemetryOptOut parameter in SDK defaults config. For more information, refer to https://sagemaker.readthedocs.io/en/stable/overview.html#configuring-and-using-defaults-with-the-sagemaker-python-sdk.\n",
      "INFO:sagemaker:Creating training-job with name: linear-learner-2025-08-10-10-11-46-228\n"
     ]
    },
    {
     "name": "stdout",
     "output_type": "stream",
     "text": [
      "2025-08-10 10:11:47 Starting - Starting the training job...\n",
      "2025-08-10 10:12:01 Starting - Preparing the instances for training...\n",
      "2025-08-10 10:12:50 Downloading - Downloading the training image............\n",
      "2025-08-10 10:14:46 Training - Training image download completed. Training in progress....\n",
      "2025-08-10 10:15:14 Uploading - Uploading generated training model\n",
      "2025-08-10 10:15:14 Completed - Training job completed\n",
      "..Training seconds: 170\n",
      "Billable seconds: 170\n"
     ]
    }
   ],
   "source": [
    "linear.fit({\"train\":s3_train_data})"
   ]
  },
  {
   "cell_type": "code",
   "execution_count": 51,
   "id": "ec596a40-e361-47fb-9cb5-ab5b326f4748",
   "metadata": {},
   "outputs": [
    {
     "name": "stderr",
     "output_type": "stream",
     "text": [
      "INFO:sagemaker:Creating model with name: linear-learner-2025-08-10-10-17-50-907\n",
      "INFO:sagemaker:Creating endpoint-config with name linear-learner-2025-08-10-10-17-50-907\n",
      "INFO:sagemaker:Creating endpoint with name linear-learner-2025-08-10-10-17-50-907\n"
     ]
    },
    {
     "name": "stdout",
     "output_type": "stream",
     "text": [
      "-------!"
     ]
    }
   ],
   "source": [
    "linear_regressor = linear.deploy(initial_instance_count=1,instance_type=\"ml.m4.xlarge\")"
   ]
  },
  {
   "cell_type": "code",
   "execution_count": 52,
   "id": "2350d976-7b01-4084-9314-cb72a32eafb1",
   "metadata": {},
   "outputs": [],
   "source": [
    "linear_regressor.serializer=sagemaker.serializers.CSVSerializer()\n",
    "linear_regressor.deserializer=sagemaker.deserializers.JSONDeserializer()"
   ]
  },
  {
   "cell_type": "code",
   "execution_count": 53,
   "id": "fa6ef368-4458-4efb-9d26-3beea1f8ee8e",
   "metadata": {},
   "outputs": [],
   "source": [
    "results = linear_regressor.predict(X_test)"
   ]
  },
  {
   "cell_type": "code",
   "execution_count": 55,
   "id": "e108bc26-249d-4980-a188-e71c70d2bb55",
   "metadata": {},
   "outputs": [
    {
     "data": {
      "text/plain": [
       "{'predictions': [{'score': 27.75180435180664},\n",
       "  {'score': 30.15160369873047},\n",
       "  {'score': 72.14811706542969},\n",
       "  {'score': 67.94847106933594},\n",
       "  {'score': 48.15011215209961}]}"
      ]
     },
     "execution_count": 55,
     "metadata": {},
     "output_type": "execute_result"
    }
   ],
   "source": [
    "results"
   ]
  },
  {
   "cell_type": "code",
   "execution_count": 56,
   "id": "9a51f30d-d666-48c0-a0f3-e664fa8c4de2",
   "metadata": {},
   "outputs": [
    {
     "name": "stdout",
     "output_type": "stream",
     "text": [
      "Notebook is valid!\n"
     ]
    }
   ],
   "source": [
    "import nbformat\n",
    "\n",
    "# Replace 'your_notebook.ipynb' with your file name\n",
    "notebook_filename = 'mynotebook.ipynb'\n",
    "\n",
    "try:\n",
    "    nb = nbformat.read(notebook_filename, as_version=4)\n",
    "    nbformat.validate(nb)\n",
    "    print(\"Notebook is valid!\")\n",
    "except Exception as e:\n",
    "    print(\"Notebook error:\", e)\n"
   ]
  },
  {
   "cell_type": "code",
   "execution_count": 57,
   "id": "c033bafc-48bc-43b2-80a0-aa93004ee4f4",
   "metadata": {},
   "outputs": [],
   "source": [
    "nbformat.write(nb, 'clean_notebook.ipynb')\n"
   ]
  },
  {
   "cell_type": "code",
   "execution_count": null,
   "id": "b1a265fd-64dd-4223-b612-5b7b63e8d386",
   "metadata": {},
   "outputs": [],
   "source": []
  }
 ],
 "metadata": {
  "kernelspec": {
   "display_name": "conda_python3",
   "language": "python",
   "name": "conda_python3"
  },
  "language_info": {
   "codemirror_mode": {
    "name": "ipython",
    "version": 3
   },
   "file_extension": ".py",
   "mimetype": "text/x-python",
   "name": "python",
   "nbconvert_exporter": "python",
   "pygments_lexer": "ipython3",
   "version": "3.10.18"
  }
 },
 "nbformat": 4,
 "nbformat_minor": 5
}
